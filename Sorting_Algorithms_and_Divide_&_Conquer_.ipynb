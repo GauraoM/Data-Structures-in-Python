{
  "nbformat": 4,
  "nbformat_minor": 0,
  "metadata": {
    "colab": {
      "name": "Sorting Algorithms and Divide & Conquer .ipynb",
      "provenance": [],
      "authorship_tag": "ABX9TyMfj8Bp7KXWiQ7QiqU55+iY",
      "include_colab_link": true
    },
    "kernelspec": {
      "name": "python3",
      "display_name": "Python 3"
    },
    "language_info": {
      "name": "python"
    }
  },
  "cells": [
    {
      "cell_type": "markdown",
      "metadata": {
        "id": "view-in-github",
        "colab_type": "text"
      },
      "source": [
        "<a href=\"https://colab.research.google.com/github/GauraoM/Data-Structures-in-Python/blob/main/Sorting_Algorithms_and_Divide_%26_Conquer_.ipynb\" target=\"_parent\"><img src=\"https://colab.research.google.com/assets/colab-badge.svg\" alt=\"Open In Colab\"/></a>"
      ]
    },
    {
      "cell_type": "markdown",
      "source": [
        "#### Merge Sort"
      ],
      "metadata": {
        "id": "pqRl1c_Unn-T"
      }
    },
    {
      "cell_type": "code",
      "execution_count": 2,
      "metadata": {
        "id": "MjuJ3PGanO85"
      },
      "outputs": [],
      "source": [
        "def merge_sort(nums):\n",
        "\n",
        "  if len(nums) <= 1:\n",
        "    return nums\n",
        "\n",
        "  mid = len(nums)//2\n",
        "\n",
        "  # Divide the list into two parts\n",
        "  left = nums[:mid]\n",
        "  right = nums[mid:]\n",
        "\n",
        "  left_sorted, right_sorted = merge_sort(left), merge_sort(right)\n",
        "\n",
        "  sorted_nums = merge(left_sorted, right_sorted)\n",
        "  return sorted_nums    "
      ]
    },
    {
      "cell_type": "code",
      "source": [
        "def merge(nums1, nums2):\n",
        "\n",
        "  merged = []\n",
        "  i,j = 0,0\n",
        "\n",
        "  while i < len(nums1) and j < len(nums2):\n",
        "    if nums1[i] <= nums2[j]:\n",
        "      merged.append(nums1[i])\n",
        "      i += 1 \n",
        "    \n",
        "    else:\n",
        "      merged.append(nums2[j])\n",
        "      j += 1\n",
        "\n",
        "  nums1_tail = nums1[i:]\n",
        "  nums2_tail = nums2[j:]  \n",
        "\n",
        "  return merged + nums1_tail + nums2_tail  "
      ],
      "metadata": {
        "id": "8Irw_y9ypYrp"
      },
      "execution_count": 4,
      "outputs": []
    },
    {
      "cell_type": "code",
      "source": [
        "merge_sort([1,4,7,0,2,3])"
      ],
      "metadata": {
        "colab": {
          "base_uri": "https://localhost:8080/"
        },
        "id": "vMOmdOphsbba",
        "outputId": "1597175d-3f35-460b-8230-6db1b12d0403"
      },
      "execution_count": 5,
      "outputs": [
        {
          "output_type": "execute_result",
          "data": {
            "text/plain": [
              "[0, 1, 2, 3, 4, 7]"
            ]
          },
          "metadata": {},
          "execution_count": 5
        }
      ]
    },
    {
      "cell_type": "markdown",
      "source": [
        "#### Quick Sort"
      ],
      "metadata": {
        "id": "lfKywPl1uU6X"
      }
    },
    {
      "cell_type": "code",
      "source": [
        "def quicksort(nums, start=0, end = None):\n",
        "  if end is None:\n",
        "    nums = list(nums)\n",
        "    end = len(nums)-1\n",
        "\n",
        "  if start < end:\n",
        "    pivot = partition(nums, start, end)\n",
        "    quicksort(nums, start, pivot-1) \n",
        "    quicksort(nums, pivot+1, end) \n",
        "  return nums  "
      ],
      "metadata": {
        "id": "JvuWoGssuUYr"
      },
      "execution_count": 13,
      "outputs": []
    },
    {
      "cell_type": "code",
      "source": [
        "def partition(nums, start = 0, end = None):\n",
        "  \n",
        "  if end is None:\n",
        "    end = len(nums) - 1\n",
        "  \n",
        "  # Initialize the left and right pointers\n",
        "  left, right = start, end-1  \n",
        "\n",
        "  while right > left:\n",
        "    # Increment left counter if it is less than pivot\n",
        "    if nums[left] <= nums[end]:\n",
        "      left += 1\n",
        "    # Decrement right counter if it is greater than pivot  \n",
        "    elif nums[right] > nums[end]:\n",
        "      right -= 1\n",
        "    # Swipe the left and right numbers  \n",
        "    else:\n",
        "      nums[left], nums[right] = nums[right], nums[left]  \n",
        "\n",
        "  if nums[left] > nums[end]:\n",
        "    nums[left], nums[end] = nums[end], nums[left]\n",
        "    return left\n",
        "  else:\n",
        "    return end          "
      ],
      "metadata": {
        "id": "0OQpCkelvZZW"
      },
      "execution_count": 23,
      "outputs": []
    },
    {
      "cell_type": "code",
      "source": [
        "quicksort([1,5,6,2,0,11,3])"
      ],
      "metadata": {
        "colab": {
          "base_uri": "https://localhost:8080/"
        },
        "id": "uuka68UFzc8U",
        "outputId": "134e0e71-a960-4345-90b4-907883436784"
      },
      "execution_count": 25,
      "outputs": [
        {
          "output_type": "execute_result",
          "data": {
            "text/plain": [
              "[0, 1, 2, 3, 5, 6, 11]"
            ]
          },
          "metadata": {},
          "execution_count": 25
        }
      ]
    }
  ]
}