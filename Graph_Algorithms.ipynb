{
  "nbformat": 4,
  "nbformat_minor": 0,
  "metadata": {
    "colab": {
      "name": "Graph Algorithms.ipynb",
      "provenance": [],
      "authorship_tag": "ABX9TyM/IvRYdWJoV1TgiPCeTakY",
      "include_colab_link": true
    },
    "kernelspec": {
      "name": "python3",
      "display_name": "Python 3"
    },
    "language_info": {
      "name": "python"
    }
  },
  "cells": [
    {
      "cell_type": "markdown",
      "metadata": {
        "id": "view-in-github",
        "colab_type": "text"
      },
      "source": [
        "<a href=\"https://colab.research.google.com/github/GauraoM/Data-Structures-in-Python/blob/main/Graph_Algorithms.ipynb\" target=\"_parent\"><img src=\"https://colab.research.google.com/assets/colab-badge.svg\" alt=\"Open In Colab\"/></a>"
      ]
    },
    {
      "cell_type": "markdown",
      "source": [
        "#### Bredth First Search"
      ],
      "metadata": {
        "id": "tAupEFPlMIro"
      }
    },
    {
      "cell_type": "code",
      "execution_count": 1,
      "metadata": {
        "id": "negaP2spLymK"
      },
      "outputs": [],
      "source": [
        "# Create a class to maintain an adjacency list\n",
        "class Graph:\n",
        "\n",
        "  def __init__(self, num_nodes, edges):\n",
        "    self.num_nodes = num_nodes\n",
        "    self.data = [[] for _ in range(num_nodes)]             \n",
        "    for n1 ,n2 in edges:\n",
        "      self.data[n1].append(n2) # Get the adjacency list for n1 and append value n2\n",
        "      self.data[n2].append(n1)\n",
        "\n",
        "  def __repr__(self):\n",
        "    return \"\\n\".join([\"{} : {}\".format(n, neighbors) for n, neighbors in enumerate(self.data)])  \n",
        "\n",
        "  def __str__(self):\n",
        "    return self.__repr__()  "
      ]
    },
    {
      "cell_type": "code",
      "source": [
        "num_nodes = 5\n",
        "edges = [(0,1),(0,4),(1,2),(1,3),(1,4),(2,3),(3,4)]"
      ],
      "metadata": {
        "id": "ud26DLxLMo63"
      },
      "execution_count": 3,
      "outputs": []
    },
    {
      "cell_type": "code",
      "source": [
        "graph1 = Graph(num_nodes,edges)\n",
        "graph1"
      ],
      "metadata": {
        "colab": {
          "base_uri": "https://localhost:8080/"
        },
        "id": "ZYoaq7HfMaLl",
        "outputId": "9be42bc5-c096-4ede-86dd-c84ee133817b"
      },
      "execution_count": 4,
      "outputs": [
        {
          "output_type": "execute_result",
          "data": {
            "text/plain": [
              "0 : [1, 4]\n",
              "1 : [0, 2, 3, 4]\n",
              "2 : [1, 3]\n",
              "3 : [1, 2, 4]\n",
              "4 : [0, 1, 3]"
            ]
          },
          "metadata": {},
          "execution_count": 4
        }
      ]
    },
    {
      "cell_type": "code",
      "source": [
        "def bfs(graph, root):\n",
        "  \n",
        "  queue = []\n",
        "  discovered = [False] * len(graph.data)\n",
        "\n",
        "  discovered[root] = True\n",
        "  queue.append(root)\n",
        "  idx = 0\n",
        "\n",
        "  while idx < len(queue):\n",
        "    \n",
        "    # Dequeue\n",
        "    current = queue[idx]\n",
        "    discovered[current] = True\n",
        "\n",
        "    # Check for all edges in current\n",
        "    for node in graph.data[current]:\n",
        "      if not discovered[node]:\n",
        "        discovered[node] = True\n",
        "        queue.append(node)\n",
        "\n",
        "    idx += 1\n",
        "\n",
        "  return queue"
      ],
      "metadata": {
        "id": "MHLlIxIkMrO4"
      },
      "execution_count": 26,
      "outputs": []
    },
    {
      "cell_type": "code",
      "source": [
        "graph1"
      ],
      "metadata": {
        "colab": {
          "base_uri": "https://localhost:8080/"
        },
        "id": "itIlHho0NwwU",
        "outputId": "2db856ed-3066-4318-f83b-aa97d8797c6e"
      },
      "execution_count": 18,
      "outputs": [
        {
          "output_type": "execute_result",
          "data": {
            "text/plain": [
              "0 : [1, 4]\n",
              "1 : [0, 2, 3, 4]\n",
              "2 : [1, 3]\n",
              "3 : [1, 2, 4]\n",
              "4 : [0, 1, 3]"
            ]
          },
          "metadata": {},
          "execution_count": 18
        }
      ]
    },
    {
      "cell_type": "code",
      "source": [
        "bfs(graph1, 3)"
      ],
      "metadata": {
        "colab": {
          "base_uri": "https://localhost:8080/"
        },
        "id": "EJPIypIGMzPw",
        "outputId": "da97d437-b913-45fb-89e4-6f0808688a26"
      },
      "execution_count": 27,
      "outputs": [
        {
          "output_type": "execute_result",
          "data": {
            "text/plain": [
              "[3, 1, 2, 4, 0]"
            ]
          },
          "metadata": {},
          "execution_count": 27
        }
      ]
    },
    {
      "cell_type": "markdown",
      "source": [
        "#### Depth First Search"
      ],
      "metadata": {
        "id": "a_ToUwISbN4U"
      }
    },
    {
      "cell_type": "code",
      "source": [
        "def  dfs(graph, root):\n",
        "\n",
        "  stack = []\n",
        "  discovered = [None] * len(graph.data)\n",
        "  result = []\n",
        "\n",
        "  stack.append(root)\n",
        "  while len(stack)>0:\n",
        "\n",
        "    current = stack.pop()\n",
        "    if not discovered[current]:\n",
        "      discovered[current] = True\n",
        "      result.append(current)\n",
        "\n",
        "      for node in graph.data[current]:\n",
        "        if not discovered[node]:\n",
        "          stack.append(node)\n",
        "\n",
        "  return result      \n"
      ],
      "metadata": {
        "id": "PGejWCx7bNCd"
      },
      "execution_count": 15,
      "outputs": []
    },
    {
      "cell_type": "code",
      "source": [
        "dfs(graph1,3)"
      ],
      "metadata": {
        "colab": {
          "base_uri": "https://localhost:8080/"
        },
        "id": "7GDFzD-ggCTp",
        "outputId": "3525812a-3a72-466e-b0f3-aefb040fdd27"
      },
      "execution_count": 16,
      "outputs": [
        {
          "output_type": "execute_result",
          "data": {
            "text/plain": [
              "[3, 4, 1, 2, 0]"
            ]
          },
          "metadata": {},
          "execution_count": 16
        }
      ]
    }
  ]
}