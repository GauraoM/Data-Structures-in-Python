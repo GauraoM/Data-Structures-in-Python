{
  "nbformat": 4,
  "nbformat_minor": 0,
  "metadata": {
    "colab": {
      "name": "Hash Tables .ipynb",
      "provenance": [],
      "include_colab_link": true
    },
    "kernelspec": {
      "name": "python3",
      "display_name": "Python 3"
    },
    "language_info": {
      "name": "python"
    }
  },
  "cells": [
    {
      "cell_type": "markdown",
      "metadata": {
        "id": "view-in-github",
        "colab_type": "text"
      },
      "source": [
        "<a href=\"https://colab.research.google.com/github/GauraoM/Data-Structures-in-Python/blob/main/Hash_Tables_.ipynb\" target=\"_parent\"><img src=\"https://colab.research.google.com/assets/colab-badge.svg\" alt=\"Open In Colab\"/></a>"
      ]
    },
    {
      "cell_type": "code",
      "source": [
        "MAX_HASH_TABLE_SIZE = 4096"
      ],
      "metadata": {
        "id": "4g9Urbrh73xi"
      },
      "execution_count": null,
      "outputs": []
    },
    {
      "cell_type": "code",
      "source": [
        "# List of MAX_HASH_TABLE_SIZE with all values None\n",
        "data_list = [None]*4096"
      ],
      "metadata": {
        "id": "kBYeZ-dpzOKV"
      },
      "execution_count": null,
      "outputs": []
    },
    {
      "cell_type": "code",
      "source": [
        "# Getting the index of the characters\n",
        "def get_index(data_list, a_string):\n",
        "    # Variable to store the result (updated after each iteration)\n",
        "    result = 0\n",
        "    \n",
        "    for a_character in a_string:\n",
        "        # Convert the character to a number (using ord)\n",
        "        a_number = ord(a_character)\n",
        "        # Update result by adding the number\n",
        "        result += a_number\n",
        "    \n",
        "    # Take the remainder of the result with the size of the data list\n",
        "    list_index = result % len(data_list)\n",
        "    return list_index"
      ],
      "metadata": {
        "id": "6jU1kgjT1jOa"
      },
      "execution_count": null,
      "outputs": []
    },
    {
      "cell_type": "code",
      "source": [
        "index = get_index(data_list, \"Aakash\")\n",
        "index"
      ],
      "metadata": {
        "colab": {
          "base_uri": "https://localhost:8080/"
        },
        "id": "rwgYTeeT24vo",
        "outputId": "85d61c63-ebe6-4447-d74e-74cbfbda43f2"
      },
      "execution_count": null,
      "outputs": [
        {
          "output_type": "execute_result",
          "data": {
            "text/plain": [
              "585"
            ]
          },
          "metadata": {},
          "execution_count": 26
        }
      ]
    },
    {
      "cell_type": "code",
      "source": [
        "class BasicHashTable:\n",
        "    def __init__(self, max_size=MAX_HASH_TABLE_SIZE):\n",
        "        # 1. Create a list of size `max_size` with all values None\n",
        "        self.data_list = [None]*max_size\n",
        "     \n",
        "    \n",
        "    def insert(self, key, value):\n",
        "        # 1. Find the index for the key using get_index\n",
        "        idx = get_index(self.data_list, key)\n",
        "        \n",
        "        # 2. Store the key-value pair at the right index\n",
        "        self.data_list[idx] = key,value\n",
        "    \n",
        "    \n",
        "    def find(self, key):\n",
        "        # 1. Find the index for the key using get_index\n",
        "        idx = get_index(self.data_list,key)\n",
        "        \n",
        "        # 2. Retrieve the data stored at the index\n",
        "        kv = self.data_list[idx]\n",
        "        \n",
        "        # 3. Return the value if found, else return None\n",
        "        if kv is None:\n",
        "            return None\n",
        "        else:\n",
        "            key, value = kv\n",
        "            return value\n",
        "    \n",
        "    \n",
        "    def update(self, key, value):\n",
        "        # 1. Find the index for the key using get_index\n",
        "        idx = get_index(self.data_list, key)\n",
        "        \n",
        "        # 2. Store the new key-value pair at the right index\n",
        "        self.data_list[idx] = key,value\n",
        "\n",
        "    \n",
        "    def list_all(self):\n",
        "        # 1. Extract the key from each key-value pair \n",
        "        return [kv[0] for kv in self.data_list if kv is not None]"
      ],
      "metadata": {
        "id": "8Dv-Bh_n3BHj"
      },
      "execution_count": null,
      "outputs": []
    },
    {
      "cell_type": "code",
      "source": [
        "basic_table = BasicHashTable(max_size=1024)\n",
        "len(basic_table.data_list)"
      ],
      "metadata": {
        "colab": {
          "base_uri": "https://localhost:8080/"
        },
        "id": "pFpLo12n6E92",
        "outputId": "8b84379b-6dbe-45cd-da75-d236f0ba050e"
      },
      "execution_count": null,
      "outputs": [
        {
          "output_type": "execute_result",
          "data": {
            "text/plain": [
              "1024"
            ]
          },
          "metadata": {},
          "execution_count": 30
        }
      ]
    },
    {
      "cell_type": "code",
      "source": [
        "# Insert some values\n",
        "basic_table.insert('Aakash', '9999999')\n",
        "basic_table.insert('Hemanth', '8888888')\n",
        "\n",
        "# Find a value\n",
        "basic_table.find('Hemanth') == '8888888'\n",
        "\n",
        "# Update a value\n",
        "basic_table.update('Aakash', '7777777')\n",
        "\n",
        "# Get the list of keys\n",
        "basic_table.list_all() == ['Aakash', 'Hemanth']"
      ],
      "metadata": {
        "colab": {
          "base_uri": "https://localhost:8080/"
        },
        "id": "pn1HyOyl8mib",
        "outputId": "86c48d71-9383-47e2-edc2-03d7a174b224"
      },
      "execution_count": null,
      "outputs": [
        {
          "output_type": "execute_result",
          "data": {
            "text/plain": [
              "True"
            ]
          },
          "metadata": {},
          "execution_count": 31
        }
      ]
    },
    {
      "cell_type": "code",
      "source": [
        "basic_table.find('Aakash')"
      ],
      "metadata": {
        "colab": {
          "base_uri": "https://localhost:8080/",
          "height": 35
        },
        "id": "7rrIMsdC-Pwp",
        "outputId": "fe3166a8-d4da-4562-b4d1-ebfe47dcea30"
      },
      "execution_count": null,
      "outputs": [
        {
          "output_type": "execute_result",
          "data": {
            "application/vnd.google.colaboratory.intrinsic+json": {
              "type": "string"
            },
            "text/plain": [
              "'7777777'"
            ]
          },
          "metadata": {},
          "execution_count": 37
        }
      ]
    },
    {
      "cell_type": "markdown",
      "source": [
        "#### Handling Collisions with Linear Probing"
      ],
      "metadata": {
        "id": "OsEYaD-9JHKu"
      }
    },
    {
      "cell_type": "code",
      "source": [
        "def get_valid_index(data_list, key):\n",
        "    # Start with the index returned by get_index\n",
        "    idx = get_index(data_list, key)\n",
        "    \n",
        "    while True:\n",
        "        # Get the key-value pair stored at idx\n",
        "        kv = data_list[idx]\n",
        "        \n",
        "        # If it is None, return the index\n",
        "        if kv == None:\n",
        "            return idx\n",
        "        \n",
        "        # If the stored key matches the given key, return the index\n",
        "        if key == kv[0]:\n",
        "            return idx\n",
        "        \n",
        "        # Move to the next index\n",
        "        idx += 1\n",
        "        \n",
        "        # Go back to the start if you have reached the end of the array\n",
        "        if idx == len(data_list):\n",
        "            idx = 0"
      ],
      "metadata": {
        "id": "eocM92SQJGsc"
      },
      "execution_count": null,
      "outputs": []
    },
    {
      "cell_type": "code",
      "source": [
        "# Create an empty hash table\n",
        "data_list = [None] * MAX_HASH_TABLE_SIZE\n",
        "\n",
        "# New key 'listen' should return expected index\n",
        "get_valid_index(data_list, 'listen') == 655"
      ],
      "metadata": {
        "colab": {
          "base_uri": "https://localhost:8080/"
        },
        "id": "1Kl4WrIZKIBS",
        "outputId": "1c833725-5bb8-4d13-af69-416f68cdec89"
      },
      "execution_count": null,
      "outputs": [
        {
          "output_type": "execute_result",
          "data": {
            "text/plain": [
              "True"
            ]
          },
          "metadata": {},
          "execution_count": 90
        }
      ]
    },
    {
      "cell_type": "code",
      "source": [
        "# Insert a key-value pair for the key 'listen'\n",
        "data_list[get_index(data_list, 'listen')] = ('listen', 99)\n",
        "\n",
        "# Colliding key 'silent', returns next index\n",
        "get_valid_index(data_list, 'silent') == 656"
      ],
      "metadata": {
        "colab": {
          "base_uri": "https://localhost:8080/"
        },
        "id": "zzT9mmQ-KNjc",
        "outputId": "4405b866-b6b6-4937-d1fa-f4982c4008f6"
      },
      "execution_count": null,
      "outputs": [
        {
          "output_type": "execute_result",
          "data": {
            "text/plain": [
              "True"
            ]
          },
          "metadata": {},
          "execution_count": 91
        }
      ]
    },
    {
      "cell_type": "markdown",
      "source": [
        "#### Hash Table with Linear Probing"
      ],
      "metadata": {
        "id": "HfklOr5MQBSr"
      }
    },
    {
      "cell_type": "code",
      "source": [
        "class ProbingHashTable:\n",
        "\n",
        "    def __init__(self, max_size=MAX_HASH_TABLE_SIZE):\n",
        "        #Create a list of size `max_size` with all values None\n",
        "        self.data_list = [None] * max_size\n",
        "     \n",
        "    \n",
        "    def insert(self, key, value):\n",
        "        # Find the index for the key using get_valid_index\n",
        "        idx = get_valid_index(self.data_list, key)\n",
        "        \n",
        "        # Store the key-value pair at the right index\n",
        "        self.data_list[idx] = key, value\n",
        "    \n",
        "    \n",
        "    def find(self, key):\n",
        "        # Find the index for the key using get_valid_index\n",
        "        idx = get_valid_index(self.data_list, key)\n",
        "        \n",
        "        # Retrieve the data stored at the index\n",
        "        kv = self.data_list[idx]\n",
        "        \n",
        "        # Return the value if found, else return None\n",
        "        if kv is None:\n",
        "          return  None\n",
        "        else:\n",
        "          return kv[1]\n",
        "    \n",
        "    \n",
        "    def update(self, key, value):\n",
        "        # Find the index for the key using get_valid_index\n",
        "        idx = get_valid_index(self.data_list, key)\n",
        "        \n",
        "        # Store the new key-value pair at the right index\n",
        "        self.data_list[idx] = key, value\n",
        "\n",
        "    \n",
        "    def list_all(self):\n",
        "        # Extract the key from each key-value pair \n",
        "        return [kv[0] for kv in self.data_list if kv is not None]"
      ],
      "metadata": {
        "id": "dFdpGO5ZP4YC"
      },
      "execution_count": null,
      "outputs": []
    },
    {
      "cell_type": "code",
      "source": [
        "# Create an empty hash table\n",
        "data_list = [None] * MAX_HASH_TABLE_SIZE"
      ],
      "metadata": {
        "id": "Y9tS87pejNWw"
      },
      "execution_count": null,
      "outputs": []
    },
    {
      "cell_type": "code",
      "source": [
        "# Create a new hash table\n",
        "probing_table = ProbingHashTable(max_size=1024)\n",
        "\n",
        "# Insert a value\n",
        "probing_table.insert('listen', 99)\n",
        "\n",
        "# Check the value\n",
        "probing_table.find('listen') == 99"
      ],
      "metadata": {
        "colab": {
          "base_uri": "https://localhost:8080/"
        },
        "id": "hVSl0QCuaIad",
        "outputId": "d3d5d810-a202-415c-b038-e1ff82c314d4"
      },
      "execution_count": null,
      "outputs": [
        {
          "output_type": "execute_result",
          "data": {
            "text/plain": [
              "True"
            ]
          },
          "metadata": {},
          "execution_count": 96
        }
      ]
    },
    {
      "cell_type": "code",
      "source": [
        "probing_table.insert('silent',101)\n",
        "\n",
        "probing_table.find('silent') == 101"
      ],
      "metadata": {
        "colab": {
          "base_uri": "https://localhost:8080/"
        },
        "id": "bbN02hFLhfvm",
        "outputId": "7644ead1-a507-4231-a0af-a078df7171b2"
      },
      "execution_count": null,
      "outputs": [
        {
          "output_type": "execute_result",
          "data": {
            "text/plain": [
              "True"
            ]
          },
          "metadata": {},
          "execution_count": 97
        }
      ]
    },
    {
      "cell_type": "code",
      "source": [
        "probing_table.list_all()"
      ],
      "metadata": {
        "colab": {
          "base_uri": "https://localhost:8080/"
        },
        "id": "6W9I3uX4kDlz",
        "outputId": "39c8dd0a-5761-4e9b-c726-e48ad17b744d"
      },
      "execution_count": null,
      "outputs": [
        {
          "output_type": "execute_result",
          "data": {
            "text/plain": [
              "['listen', 'silent']"
            ]
          },
          "metadata": {},
          "execution_count": 99
        }
      ]
    }
  ]
}