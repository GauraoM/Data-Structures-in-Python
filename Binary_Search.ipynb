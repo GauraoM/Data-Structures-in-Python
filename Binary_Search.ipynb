{
  "nbformat": 4,
  "nbformat_minor": 0,
  "metadata": {
    "colab": {
      "name": "Binary Search.ipynb",
      "provenance": [],
      "authorship_tag": "ABX9TyOKPDJx3PFqm8YIwTNoUEWA",
      "include_colab_link": true
    },
    "kernelspec": {
      "name": "python3",
      "display_name": "Python 3"
    },
    "language_info": {
      "name": "python"
    }
  },
  "cells": [
    {
      "cell_type": "markdown",
      "metadata": {
        "id": "view-in-github",
        "colab_type": "text"
      },
      "source": [
        "<a href=\"https://colab.research.google.com/github/GauraoM/Data-Structures-in-Python/blob/main/Binary_Search.ipynb\" target=\"_parent\"><img src=\"https://colab.research.google.com/assets/colab-badge.svg\" alt=\"Open In Colab\"/></a>"
      ]
    },
    {
      "cell_type": "markdown",
      "source": [
        "#### Determine how many time a given list is rotataed to a give sorted list"
      ],
      "metadata": {
        "id": "zBCS0tEfYf6d"
      }
    },
    {
      "cell_type": "code",
      "execution_count": 30,
      "metadata": {
        "colab": {
          "base_uri": "https://localhost:8080/"
        },
        "id": "v_Qn5xukYGnx",
        "outputId": "556d6889-999f-4647-c294-93f754580703"
      },
      "outputs": [
        {
          "output_type": "stream",
          "name": "stdout",
          "text": [
            "3\n"
          ]
        }
      ],
      "source": [
        "def count_rotations_linear(nums):\n",
        "  position = nums[0]\n",
        "  n = len(nums)\n",
        "  \n",
        "  for i in range(0,n):\n",
        "    if position > nums[i]:\n",
        "      position = nums[i]\n",
        "      rotation_index = i\n",
        "  return rotation_index  \n",
        "\n",
        "rotate = count_rotations_linear([19, 25, 29, 4, 5, 6, 7, 9, 11, 14])\n",
        "print(rotate)"
      ]
    }
  ]
}