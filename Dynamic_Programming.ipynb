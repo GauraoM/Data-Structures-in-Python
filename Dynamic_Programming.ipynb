{
  "nbformat": 4,
  "nbformat_minor": 0,
  "metadata": {
    "colab": {
      "name": "Dynamic Programming.ipynb",
      "provenance": [],
      "authorship_tag": "ABX9TyMCM/jY/8Mjxa7O+Y8duiBt",
      "include_colab_link": true
    },
    "kernelspec": {
      "name": "python3",
      "display_name": "Python 3"
    },
    "language_info": {
      "name": "python"
    }
  },
  "cells": [
    {
      "cell_type": "markdown",
      "metadata": {
        "id": "view-in-github",
        "colab_type": "text"
      },
      "source": [
        "<a href=\"https://colab.research.google.com/github/GauraoM/Data-Structures-in-Python/blob/main/Dynamic_Programming.ipynb\" target=\"_parent\"><img src=\"https://colab.research.google.com/assets/colab-badge.svg\" alt=\"Open In Colab\"/></a>"
      ]
    },
    {
      "cell_type": "markdown",
      "source": [
        "#### Longest Common Subsequence using dynamic programming"
      ],
      "metadata": {
        "id": "V7yOH49hlVAm"
      }
    },
    {
      "cell_type": "code",
      "execution_count": 9,
      "metadata": {
        "id": "glHGuZEokj7D"
      },
      "outputs": [],
      "source": [
        "def lcq_dp(seq1, seq2):\n",
        "    n1, n2 = len(seq1), len(seq2)\n",
        "    # Creating a table of 0 of size(n1+1)*(n2+1) \n",
        "    table = [[0 for _ in range(n2+1)] for _ in range(n1+1)]\n",
        "    # Iterate over rows\n",
        "    for idx1 in range(n1):\n",
        "       # Iterate over columns\n",
        "        for idx2 in range(n2):\n",
        "          # if both the elements are matching then increment it by 1 otherwise whichever is max \n",
        "            if seq1[idx1] == seq2[idx2]:\n",
        "                table[idx1+1][idx2+1] = 1 + table[idx1][idx2]\n",
        "            else:\n",
        "                table[idx1+1][idx2+1] = max(table[idx1][idx2+1], table[idx1+1][idx2])\n",
        "    # Return the last element            \n",
        "    return table[-1][-1]  \n"
      ]
    },
    {
      "cell_type": "code",
      "source": [
        "result = lcq_dp('longest','stone')\n",
        "print(result)"
      ],
      "metadata": {
        "colab": {
          "base_uri": "https://localhost:8080/"
        },
        "id": "4sVoUcF4sWGu",
        "outputId": "cecd3fc3-5484-472c-f14f-2b799c61aad5"
      },
      "execution_count": 14,
      "outputs": [
        {
          "output_type": "stream",
          "name": "stdout",
          "text": [
            "3\n"
          ]
        }
      ]
    }
  ]
}