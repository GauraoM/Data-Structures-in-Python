{
  "nbformat": 4,
  "nbformat_minor": 0,
  "metadata": {
    "colab": {
      "name": "Recursion and Dynamic Programming.ipynb",
      "provenance": [],
      "authorship_tag": "ABX9TyPmjeKIJZnIhFlypk5j/q22",
      "include_colab_link": true
    },
    "kernelspec": {
      "name": "python3",
      "display_name": "Python 3"
    },
    "language_info": {
      "name": "python"
    }
  },
  "cells": [
    {
      "cell_type": "markdown",
      "metadata": {
        "id": "view-in-github",
        "colab_type": "text"
      },
      "source": [
        "<a href=\"https://colab.research.google.com/github/GauraoM/Data-Structures-in-Python/blob/main/Recursion_and_Dynamic_Programming.ipynb\" target=\"_parent\"><img src=\"https://colab.research.google.com/assets/colab-badge.svg\" alt=\"Open In Colab\"/></a>"
      ]
    },
    {
      "cell_type": "markdown",
      "source": [
        "#### Longest Common Sequence using Recursion"
      ],
      "metadata": {
        "id": "DArrH1_cmX91"
      }
    },
    {
      "cell_type": "code",
      "source": [
        "def lcq_recursive(seq1, seq2, idx1 = 0, idx2 = 0):\n",
        "\n",
        "  # Check if either of the sequence reaches the end of the list\n",
        "  if idx1 == len(seq1) or idx2 == len(seq2):\n",
        "    return 0\n",
        "  # Check if current characters are equal  \n",
        "  elif seq1[idx1] == seq2[idx2]:\n",
        "    return 1 + lcq_recursive(seq1, seq2, idx1+1, idx2+1)  \n",
        "  # Skip one element from each sequence  \n",
        "  else:\n",
        "    return max(lcq_recursive(seq1, seq2, idx1 +1, idx2 ), lcq_recursive(seq1, seq2, idx1, idx2 + 1))"
      ],
      "metadata": {
        "id": "HDOaxWgil_qo"
      },
      "execution_count": 1,
      "outputs": []
    },
    {
      "cell_type": "code",
      "source": [
        "result = lcq_recursive('longest','stone')\n",
        "print(result)"
      ],
      "metadata": {
        "colab": {
          "base_uri": "https://localhost:8080/"
        },
        "id": "FwQ4SfzfwXik",
        "outputId": "4694c9fb-5350-476f-d979-8b433365e431"
      },
      "execution_count": 2,
      "outputs": [
        {
          "output_type": "stream",
          "name": "stdout",
          "text": [
            "3\n"
          ]
        }
      ]
    },
    {
      "cell_type": "markdown",
      "source": [
        "#### Longest Common Sequence using memoization"
      ],
      "metadata": {
        "id": "xW2WUwMZ2KpA"
      }
    },
    {
      "cell_type": "code",
      "source": [
        "def lcq_memoized(seq1, seq2):\n",
        "\n",
        "  memoized = {}\n",
        "\n",
        "  def recursive(idx1, idx2):\n",
        "    key = idx1 ,idx2\n",
        "\n",
        "    # Check if key is present in a dictionary\n",
        "    if key in memoized:\n",
        "      return key\n",
        "     # Check if both the sequences are equal\n",
        "    if idx1 == len(seq1) or idx2 == len(seq2):\n",
        "      return memoized[key] == 0\n",
        "\n",
        "    # Check if both the sequences are equal\n",
        "    elif seq1[idx1] == seq2[idx2]:\n",
        "      return 1 + lcq_memoized(seq1, seq2 ,idx1+1, idx2 +1)\n",
        "\n",
        "    else:\n",
        "      return max(recursive(idx1 +1 , idx2), recursive(idx1, idx2 + 1))  \n",
        "\n"
      ],
      "metadata": {
        "id": "a-sHBpV52Akn"
      },
      "execution_count": 5,
      "outputs": []
    },
    {
      "cell_type": "code",
      "source": [
        "result = lcq_recursive('longest','stone')\n",
        "print(result)"
      ],
      "metadata": {
        "colab": {
          "base_uri": "https://localhost:8080/"
        },
        "id": "PstxJsy_4gXW",
        "outputId": "3ef6857c-de7c-4410-8417-4f40b61e9f20"
      },
      "execution_count": 6,
      "outputs": [
        {
          "output_type": "stream",
          "name": "stdout",
          "text": [
            "3\n"
          ]
        }
      ]
    },
    {
      "cell_type": "markdown",
      "source": [
        "#### Longest Common Subsequence using dynamic programming"
      ],
      "metadata": {
        "id": "V7yOH49hlVAm"
      }
    },
    {
      "cell_type": "code",
      "execution_count": 9,
      "metadata": {
        "id": "glHGuZEokj7D"
      },
      "outputs": [],
      "source": [
        "def lcq_dp(seq1, seq2):\n",
        "    n1, n2 = len(seq1), len(seq2)\n",
        "    # Creating a table of 0 of size(n1+1)*(n2+1) \n",
        "    table = [[0 for _ in range(n2+1)] for _ in range(n1+1)]\n",
        "    # Iterate over rows\n",
        "    for idx1 in range(n1):\n",
        "       # Iterate over columns\n",
        "        for idx2 in range(n2):\n",
        "          # if both the elements are matching then increment it by 1 otherwise whichever is max \n",
        "            if seq1[idx1] == seq2[idx2]:\n",
        "                table[idx1+1][idx2+1] = 1 + table[idx1][idx2]\n",
        "            else:\n",
        "                table[idx1+1][idx2+1] = max(table[idx1][idx2+1], table[idx1+1][idx2])\n",
        "    # Return the last element            \n",
        "    return table[-1][-1]  \n"
      ]
    },
    {
      "cell_type": "code",
      "source": [
        "result = lcq_dp('longest','stone')\n",
        "print(result)"
      ],
      "metadata": {
        "colab": {
          "base_uri": "https://localhost:8080/"
        },
        "id": "4sVoUcF4sWGu",
        "outputId": "cecd3fc3-5484-472c-f14f-2b799c61aad5"
      },
      "execution_count": 14,
      "outputs": [
        {
          "output_type": "stream",
          "name": "stdout",
          "text": [
            "3\n"
          ]
        }
      ]
    }
  ]
}