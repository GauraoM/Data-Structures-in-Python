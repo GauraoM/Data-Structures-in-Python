{
  "nbformat": 4,
  "nbformat_minor": 0,
  "metadata": {
    "colab": {
      "name": "Binary Search.ipynb",
      "provenance": [],
      "include_colab_link": true
    },
    "kernelspec": {
      "name": "python3",
      "display_name": "Python 3"
    },
    "language_info": {
      "name": "python"
    }
  },
  "cells": [
    {
      "cell_type": "markdown",
      "metadata": {
        "id": "view-in-github",
        "colab_type": "text"
      },
      "source": [
        "<a href=\"https://colab.research.google.com/github/GauraoM/Data-Structures-in-Python/blob/main/Binary_Search.ipynb\" target=\"_parent\"><img src=\"https://colab.research.google.com/assets/colab-badge.svg\" alt=\"Open In Colab\"/></a>"
      ]
    },
    {
      "cell_type": "markdown",
      "source": [
        "#### Determine the minimum number of times the original sorted list i.e [4, 5, 6, 7, 9, 11, 14, 19, 25, 19] was rotated to obtain the given list."
      ],
      "metadata": {
        "id": "zBCS0tEfYf6d"
      }
    },
    {
      "cell_type": "markdown",
      "source": [
        "##### Linear Search Implementation"
      ],
      "metadata": {
        "id": "--ANQcRSALN4"
      }
    },
    {
      "cell_type": "code",
      "source": [
        "def count_rotations_linear(nums):\n",
        "  position = 0\n",
        "\n",
        "  while position < len(nums):\n",
        "    if position > 0 and nums[position] < nums[position - 1]:\n",
        "      return position\n",
        "\n",
        "    position += 1\n",
        "\n",
        "  return 0 \n",
        "\n",
        "\n",
        "rotate = count_rotations_linear([19, 25, 29, 4, 5, 6, 7, 9, 11, 14])\n",
        "print(rotate)     "
      ],
      "metadata": {
        "id": "fFl4hz7n5LM6",
        "outputId": "a9863149-76c3-46c5-c882-09b833f95b3b",
        "colab": {
          "base_uri": "https://localhost:8080/"
        }
      },
      "execution_count": null,
      "outputs": [
        {
          "output_type": "stream",
          "name": "stdout",
          "text": [
            "3\n"
          ]
        }
      ]
    },
    {
      "cell_type": "markdown",
      "source": [
        "##### Binary Search Implementation"
      ],
      "metadata": {
        "id": "gyzyVTtkAZIk"
      }
    },
    {
      "cell_type": "code",
      "source": [
        "def count_rotations_binary(nums):\n",
        "  lo, hi = 0, len(nums)-1\n",
        "\n",
        "  while lo <= hi:\n",
        "    mid = (lo + hi)//2\n",
        "    mid_nums = nums[mid]\n",
        "\n",
        "    if mid > 0 and nums[mid] < nums[mid-1]:\n",
        "      return mid\n",
        "\n",
        "    elif nums[mid] < nums[hi]:\n",
        "      # Answer is in left half\n",
        "      hi = mid - 1 \n",
        "    else:\n",
        "      # Answer is in right half\n",
        "      lo = mid + 1\n",
        "  return 0\n",
        "\n",
        "rotate = count_rotations_binary([19, 25, 29, 4, 5, 6, 7, 9, 11, 14])\n",
        "print(rotate)          "
      ],
      "metadata": {
        "id": "PUz-23RHAU9E",
        "outputId": "8e6e4370-7d68-4c44-a47c-a3e41caa14ff",
        "colab": {
          "base_uri": "https://localhost:8080/"
        }
      },
      "execution_count": 27,
      "outputs": [
        {
          "output_type": "stream",
          "name": "stdout",
          "text": [
            "3\n"
          ]
        }
      ]
    }
  ]
}
